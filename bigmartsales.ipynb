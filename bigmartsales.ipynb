{
 "cells": [
  {
   "cell_type": "code",
   "execution_count": 1,
   "metadata": {},
   "outputs": [],
   "source": [
    "# importing required values\n",
    "import pandas as pd\n",
    "import numpy as np\n",
    "import matplotlib.pyplot as plt\n",
    "%matplotlib inline"
   ]
  },
  {
   "cell_type": "code",
   "execution_count": 5,
   "metadata": {},
   "outputs": [],
   "source": [
    "# read the train data\n",
    "train_data = pd.read_csv('train_v9rqX0R.csv')"
   ]
  },
  {
   "cell_type": "code",
   "execution_count": 6,
   "metadata": {},
   "outputs": [
    {
     "data": {
      "text/plain": [
       "Item_Identifier                 0\n",
       "Item_Weight                  1463\n",
       "Item_Fat_Content                0\n",
       "Item_Visibility                 0\n",
       "Item_Type                       0\n",
       "Item_MRP                        0\n",
       "Outlet_Identifier               0\n",
       "Outlet_Establishment_Year       0\n",
       "Outlet_Size                  2410\n",
       "Outlet_Location_Type            0\n",
       "Outlet_Type                     0\n",
       "Item_Outlet_Sales               0\n",
       "dtype: int64"
      ]
     },
     "execution_count": 6,
     "metadata": {},
     "output_type": "execute_result"
    }
   ],
   "source": [
    "# check for the null values\n",
    "train_data.isna().sum()"
   ]
  },
  {
   "cell_type": "code",
   "execution_count": 7,
   "metadata": {},
   "outputs": [],
   "source": [
    "# impute missing values in item weight by mean\n",
    "train_data.Item_Weight.fillna(train_data.Item_Weight.mean(),inplace=True)\n",
    "# impute outlet size in training data by mode\n",
    "train_data.Outlet_Size.fillna(train_data.Outlet_Size.mode()[0],inplace=True)\n"
   ]
  },
  {
   "cell_type": "code",
   "execution_count": 9,
   "metadata": {},
   "outputs": [],
   "source": [
    "import category_encoders as ce\n",
    "# create an object of the OneHotEncoder\n",
    "OHE = ce.OneHotEncoder(cols=['Item_Fat_Content',\n",
    "                             'Item_Type',\n",
    "                             'Outlet_Identifier',\n",
    "                             'Outlet_Size',\n",
    "                             'Outlet_Location_Type',\n",
    "                             'Outlet_Type'],use_cat_names=True)\n",
    "# encode the categorical variables\n",
    "train_data = OHE.fit_transform(train_data)\n",
    "\n"
   ]
  },
  {
   "cell_type": "code",
   "execution_count": 11,
   "metadata": {},
   "outputs": [],
   "source": [
    "from sklearn.preprocessing import StandardScaler\n",
    "# create an object of the StandardScaler\n",
    "scaler = StandardScaler()\n",
    "# fit with the Item_MRP\n",
    "scaler.fit(np.array(train_data.Item_MRP).reshape(-1,1))\n",
    "# transform the data\n",
    "train_data.Item_MRP = scaler.transform(np.array(train_data.Item_MRP).reshape(-1,1))"
   ]
  },
  {
   "cell_type": "code",
   "execution_count": 12,
   "metadata": {},
   "outputs": [
    {
     "data": {
      "text/plain": [
       "((6392, 45), (2131, 45), (6392,), (2131,))"
      ]
     },
     "execution_count": 12,
     "metadata": {},
     "output_type": "execute_result"
    }
   ],
   "source": [
    "# importing libraries\n",
    "from sklearn.linear_model import LinearRegression\n",
    "from sklearn.ensemble import  RandomForestRegressor\n",
    "from sklearn.model_selection import train_test_split\n",
    "from sklearn.metrics import mean_squared_error\n",
    "\n",
    "\n",
    "# separate the independent and target variable \n",
    "train_X = train_data.drop(columns=['Item_Identifier','Item_Outlet_Sales'])\n",
    "train_Y = train_data['Item_Outlet_Sales']\n",
    "\n",
    "\n",
    "# randomly split the data\n",
    "train_x, test_x, train_y, test_y = train_test_split(train_X, train_Y,test_size=0.25,random_state=0)\n",
    "\n",
    "\n",
    "# shape of train and test splits\n",
    "train_x.shape, test_x.shape, train_y.shape, test_y.shape\n"
   ]
  },
  {
   "cell_type": "code",
   "execution_count": 13,
   "metadata": {},
   "outputs": [
    {
     "name": "stdout",
     "output_type": "stream",
     "text": [
      "RMSE on train data:  1120.3887086594239\n",
      "RMSE on test data:  1148.8547727689513\n"
     ]
    }
   ],
   "source": [
    "# create an object of the LinearRegression Model\n",
    "model_LR = LinearRegression()\n",
    "\n",
    "\n",
    "# fit the model with the training data\n",
    "model_LR.fit(train_x, train_y)\n",
    "\n",
    "\n",
    "# predict the target on train and test data \n",
    "predict_train = model_LR.predict(train_x)\n",
    "predict_test  = model_LR.predict(test_x)\n",
    "\n",
    "\n",
    "# Root Mean Squared Error on train and test date\n",
    "print('RMSE on train data: ', mean_squared_error(train_y, predict_train)**(0.5))\n",
    "print('RMSE on test data: ',  mean_squared_error(test_y, predict_test)**(0.5))\n"
   ]
  },
  {
   "cell_type": "code",
   "execution_count": 14,
   "metadata": {},
   "outputs": [
    {
     "name": "stdout",
     "output_type": "stream",
     "text": [
      "RMSE on train data:  896.427603169651\n",
      "RMSE on test data:  1118.1986857923057\n"
     ]
    }
   ],
   "source": [
    "# create an object of the RandomForestRegressor\n",
    "model_RFR = RandomForestRegressor(max_depth=10)\n",
    "\n",
    "\n",
    "# fit the model with the training data\n",
    "model_RFR.fit(train_x, train_y)\n",
    "\n",
    "\n",
    "# predict the target on train and test data\n",
    "predict_train = model_RFR.predict(train_x)\n",
    "predict_test = model_RFR.predict(test_x)\n",
    "\n",
    "\n",
    "# Root Mean Squared Error on train and test data\n",
    "print('RMSE on train data: ', mean_squared_error(train_y, predict_train)**(0.5))\n",
    "print('RMSE on test data: ',  mean_squared_error(test_y, predict_test)**(0.5))\n"
   ]
  },
  {
   "cell_type": "code",
   "execution_count": 15,
   "metadata": {},
   "outputs": [
    {
     "data": {
      "image/png": "[encoded data removed]",
      "text/plain": [
       "<Figure size 720x504 with 1 Axes>"
      ]
     },
     "metadata": {
      "needs_background": "light"
     },
     "output_type": "display_data"
    }
   ],
   "source": [
    "# plot the 7 most important features \n",
    "plt.figure(figsize=(10,7))\n",
    "feat_importances = pd.Series(model_RFR.feature_importances_, index = train_x.columns)\n",
    "feat_importances.nlargest(7).plot(kind='barh');\n"
   ]
  },
  {
   "cell_type": "code",
   "execution_count": 17,
   "metadata": {},
   "outputs": [],
   "source": [
    "# training data with 7 most important features\n",
    "train_x_if = train_x[['Item_MRP', \n",
    "                    'Outlet_Type_Grocery Store',\n",
    "                   'Item_Visibility',\n",
    "                    'Outlet_Type_Supermarket Type3',\n",
    "                    'Outlet_Identifier_OUT027',\n",
    "                    'Outlet_Establishment_Year',\n",
    "                  'Item_Weight']]"
   ]
  },
  {
   "cell_type": "code",
   "execution_count": 18,
   "metadata": {},
   "outputs": [],
   "source": [
    "# test data with 7 most important features\n",
    "test_x_if = test_x[['Item_MRP', \n",
    "                    'Outlet_Type_Grocery Store',\n",
    "                    'Item_Visibility',\n",
    "                    'Outlet_Type_Supermarket Type3',\n",
    "                    'Outlet_Identifier_OUT027',\n",
    "                    'Outlet_Establishment_Year',\n",
    "                    'Item_Weight']]"
   ]
  },
  {
   "cell_type": "code",
   "execution_count": 19,
   "metadata": {},
   "outputs": [
    {
     "name": "stdout",
     "output_type": "stream",
     "text": [
      "RMSE on train data:  899.9916554012883\n",
      "RMSE on test data:  1117.6036288757123\n"
     ]
    }
   ],
   "source": [
    "# create an object of the RandfomForestRegressor Model\n",
    "model_RFR_with_if = RandomForestRegressor(max_depth=10,random_state=2)\n",
    "# fit the model with the training data\n",
    "model_RFR_with_if.fit(train_x_if, train_y)\n",
    "# predict the target on the training and test data\n",
    "predict_train_with_if = model_RFR_with_if.predict(train_x_if)\n",
    "predict_test_with_if = model_RFR_with_if.predict(test_x_if)\n",
    "# Root Mean Squared Error on the train and test data\n",
    "print('RMSE on train data: ', mean_squared_error(train_y, predict_train_with_if)**(0.5))\n",
    "print('RMSE on test data: ',  mean_squared_error(test_y, predict_test_with_if)**(0.5))\n"
   ]
  },
  {
   "cell_type": "code",
   "execution_count": null,
   "metadata": {},
   "outputs": [],
   "source": []
  }
 ],
 "metadata": {
  "kernelspec": {
   "display_name": "Python 3",
   "language": "python",
   "name": "python3"
  },
  "language_info": {
   "codemirror_mode": {
    "name": "ipython",
    "version": 3
   },
   "file_extension": ".py",
   "mimetype": "text/x-python",
   "name": "python",
   "nbconvert_exporter": "python",
   "pygments_lexer": "ipython3",
   "version": "3.8.5"
  }
 },
 "nbformat": 4,
 "nbformat_minor": 4
}
