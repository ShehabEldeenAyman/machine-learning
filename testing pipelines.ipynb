{
 "cells": [
  {
   "cell_type": "code",
   "execution_count": 1,
   "metadata": {},
   "outputs": [
    {
     "data": {
      "text/plain": [
       "0.8666666666666667"
      ]
     },
     "execution_count": 1,
     "metadata": {},
     "output_type": "execute_result"
    }
   ],
   "source": [
    "from sklearn.datasets import load_iris\n",
    "from sklearn.model_selection import train_test_split\n",
    "from sklearn.preprocessing import StandardScaler\n",
    "from sklearn.decomposition import PCA\n",
    "from sklearn.pipeline import Pipeline\n",
    "from sklearn.linear_model import LogisticRegression\n",
    "iris_df=load_iris()\n",
    "X_train,X_test,y_train,y_test=train_test_split(iris_df.data,iris_df.target,test_size=0.3,random_state=0)\n",
    "pipeline_lr=Pipeline([('scalar1',StandardScaler()),\n",
    "('pca1',PCA(n_components=2)),\n",
    "('lr_classifier',LogisticRegression(random_state=0))])\n",
    "model = pipeline_lr.fit(X_train, y_train)\n",
    "model.score(X_test,y_test)\n"
   ]
  },
  {
   "cell_type": "markdown",
   "metadata": {},
   "source": [
    "# Stacking Multiple Pipelines to Find the Model with the Best Accuracy"
   ]
  },
  {
   "cell_type": "code",
   "execution_count": 4,
   "metadata": {},
   "outputs": [
    {
     "name": "stdout",
     "output_type": "stream",
     "text": [
      "Logistic Regression Test Accuracy:0.8666666666666667\n",
      "Decision Tree Test Accuracy:0.9111111111111111\n",
      "Support Vector Machine Test Accuracy:0.9333333333333333\n",
      "K Nearest Neighbor Test Accuracy:0.9111111111111111\n"
     ]
    }
   ],
   "source": [
    "\n",
    "from sklearn.neighbors import KNeighborsClassifier\n",
    "from sklearn.tree import DecisionTreeClassifier\n",
    "from sklearn import svm\n",
    "pipeline_lr=Pipeline([('scalar1',StandardScaler()),\n",
    "                     ('pca1',PCA(n_components=2)), \n",
    "                     ('lr_classifier',LogisticRegression())])\n",
    "pipeline_dt=Pipeline([('scalar2',StandardScaler()),\n",
    "                     ('pca2',PCA(n_components=2)),\n",
    "                     ('dt_classifier',DecisionTreeClassifier())])\n",
    "pipeline_svm = Pipeline([('scalar3', StandardScaler()),\n",
    "                      ('pca3', PCA(n_components=2)),\n",
    "                      ('clf', svm.SVC())])\n",
    "pipeline_knn=Pipeline([('scalar4',StandardScaler()),\n",
    "                     ('pca4',PCA(n_components=2)),\n",
    "                     ('knn_classifier',KNeighborsClassifier())])\n",
    "pipelines = [pipeline_lr, pipeline_dt, pipeline_svm, pipeline_knn]\n",
    "pipe_dict = {0: 'Logistic Regression', 1: 'Decision Tree', 2: 'Support Vector Machine',3:'K Nearest Neighbor'}\n",
    "for pipe in pipelines:\n",
    "  pipe.fit(X_train, y_train)\n",
    "for i,model in enumerate(pipelines):\n",
    "    print(\"{} Test Accuracy:{}\".format(pipe_dict[i],model.score(X_test,y_test)))\n"
   ]
  },
  {
   "cell_type": "markdown",
   "metadata": {},
   "source": [
    "# Hyperparameter Tuning in Pipeline (very cpu intensive)"
   ]
  },
  {
   "cell_type": "code",
   "execution_count": 5,
   "metadata": {},
   "outputs": [
    {
     "data": {
      "text/plain": [
       "0.9777777777777777"
      ]
     },
     "execution_count": 5,
     "metadata": {},
     "output_type": "execute_result"
    }
   ],
   "source": [
    "from sklearn.model_selection import GridSearchCV\n",
    "from sklearn.pipeline import make_pipeline\n",
    "from sklearn.ensemble import RandomForestClassifier\n",
    "pipe = make_pipeline((RandomForestClassifier()))\n",
    "grid_param = [\n",
    "{\"randomforestclassifier\": [RandomForestClassifier()],\n",
    "\"randomforestclassifier__n_estimators\":[10,100,1000],\n",
    "\"randomforestclassifier__max_depth\":[5,8,15,25,30,None],\n",
    "\"randomforestclassifier__min_samples_leaf\":[1,2,5,10,15,100],\n",
    "\"randomforestclassifier__max_leaf_nodes\": [2, 5,10]}]\n",
    "gridsearch = GridSearchCV(pipe, grid_param, cv=5, verbose=0,n_jobs=-1) \n",
    "best_model = gridsearch.fit(X_train,y_train)\n",
    "best_model.score(X_test,y_test)"
   ]
  },
  {
   "cell_type": "code",
   "execution_count": null,
   "metadata": {},
   "outputs": [],
   "source": []
  }
 ],
 "metadata": {
  "kernelspec": {
   "display_name": "Python 3",
   "language": "python",
   "name": "python3"
  },
  "language_info": {
   "codemirror_mode": {
    "name": "ipython",
    "version": 3
   },
   "file_extension": ".py",
   "mimetype": "text/x-python",
   "name": "python",
   "nbconvert_exporter": "python",
   "pygments_lexer": "ipython3",
   "version": "3.6.12"
  }
 },
 "nbformat": 4,
 "nbformat_minor": 4
}
